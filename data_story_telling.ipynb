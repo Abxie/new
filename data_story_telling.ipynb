{
  "nbformat": 4,
  "nbformat_minor": 0,
  "metadata": {
    "colab": {
      "name": "data story-telling.ipynb",
      "provenance": [],
      "authorship_tag": "ABX9TyNFvbQgWFH+48mf44W4fZDa",
      "include_colab_link": true
    },
    "kernelspec": {
      "name": "python3",
      "display_name": "Python 3"
    },
    "language_info": {
      "name": "python"
    }
  },
  "cells": [
    {
      "cell_type": "markdown",
      "metadata": {
        "id": "view-in-github",
        "colab_type": "text"
      },
      "source": [
        "<a href=\"https://colab.research.google.com/github/Abxie/new/blob/main/data_story_telling.ipynb\" target=\"_parent\"><img src=\"https://colab.research.google.com/assets/colab-badge.svg\" alt=\"Open In Colab\"/></a>"
      ]
    },
    {
      "cell_type": "code",
      "metadata": {
        "id": "WaThXLcLI_-m"
      },
      "source": [
        ""
      ],
      "execution_count": 1,
      "outputs": []
    },
    {
      "cell_type": "markdown",
      "metadata": {
        "id": "cO-VMLfKJSJd"
      },
      "source": [
        "#story telling"
      ]
    },
    {
      "cell_type": "markdown",
      "metadata": {
        "id": "8Lmufc0-JCbS"
      },
      "source": [
        ""
      ]
    },
    {
      "cell_type": "markdown",
      "metadata": {
        "id": "piH57f6NJFlK"
      },
      "source": [
        "#Ingest"
      ]
    },
    {
      "cell_type": "code",
      "metadata": {
        "id": "Vu3-4NaAJPDW"
      },
      "source": [
        "import pandas as pd\n",
        "df=pd.read_csv()\n",
        "df.head"
      ],
      "execution_count": 2,
      "outputs": []
    },
    {
      "cell_type": "code",
      "metadata": {
        "id": "-qjBbxUKLkRM"
      },
      "source": [
        "df.describe()"
      ],
      "execution_count": null,
      "outputs": []
    },
    {
      "cell_type": "markdown",
      "metadata": {
        "id": "uKC9ggKBOVkQ"
      },
      "source": [
        "now wikipedia has some API"
      ]
    },
    {
      "cell_type": "markdown",
      "metadata": {
        "id": "Ycw9kKjQJKpx"
      },
      "source": [
        "#EDA"
      ]
    },
    {
      "cell_type": "markdown",
      "metadata": {
        "id": "VY4lXLIDJMzt"
      },
      "source": [
        ""
      ]
    },
    {
      "cell_type": "markdown",
      "metadata": {
        "id": "pyCYGQXuJcpa"
      },
      "source": [
        "#Model"
      ]
    }
  ]
}