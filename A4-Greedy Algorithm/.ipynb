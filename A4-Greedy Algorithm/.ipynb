{
  "nbformat": 4,
  "nbformat_minor": 0,
  "metadata": {
    "colab": {
      "name": "A4.ipynb",
      "provenance": [],
      "include_colab_link": true
    },
    "kernelspec": {
      "name": "python3",
      "display_name": "Python 3"
    }
  },
  "cells": [
    {
      "cell_type": "markdown",
      "metadata": {
        "id": "view-in-github",
        "colab_type": "text"
      },
      "source": [
        "<a href=\"https://colab.research.google.com/github/Abxie/new/blob/main/A4-Greedy%20Algorithm/.ipynb\" target=\"_parent\"><img src=\"https://colab.research.google.com/assets/colab-badge.svg\" alt=\"Open In Colab\"/></a>"
      ]
    },
    {
      "cell_type": "markdown",
      "metadata": {
        "id": "xsv4-qZPqKrP"
      },
      "source": [
        "###TSP Solution"
      ]
    },
    {
      "cell_type": "code",
      "metadata": {
        "id": "Lw5qxOzNFcB1",
        "colab": {
          "base_uri": "https://localhost:8080/"
        },
        "outputId": "1a250dfa-50a3-4de8-e572-1df728015dd8"
      },
      "source": [
        "!pip install pycountry\n",
        "!pip install geograpy3\n",
        "!pip install mip\n"
      ],
      "execution_count": null,
      "outputs": [
        {
          "output_type": "stream",
          "name": "stdout",
          "text": [
            "Collecting pycountry\n",
            "  Downloading pycountry-20.7.3.tar.gz (10.1 MB)\n",
            "\u001b[K     |████████████████████████████████| 10.1 MB 7.4 MB/s \n",
            "\u001b[?25hBuilding wheels for collected packages: pycountry\n",
            "  Building wheel for pycountry (setup.py) ... \u001b[?25l\u001b[?25hdone\n",
            "  Created wheel for pycountry: filename=pycountry-20.7.3-py2.py3-none-any.whl size=10746883 sha256=98d609a53912083bbcbff592ddc48e36b220f767b9626bd5dd26afab247da18a\n",
            "  Stored in directory: /root/.cache/pip/wheels/57/e8/3f/120ccc1ff7541c108bc5d656e2a14c39da0d824653b62284c6\n",
            "Successfully built pycountry\n",
            "Installing collected packages: pycountry\n",
            "Successfully installed pycountry-20.7.3\n",
            "Collecting geograpy3\n",
            "  Downloading geograpy3-0.2.1-py3-none-any.whl (34 kB)\n",
            "Requirement already satisfied: pandas in /usr/local/lib/python3.7/dist-packages (from geograpy3) (1.1.5)\n",
            "Collecting sphinx-rtd-theme\n",
            "  Downloading sphinx_rtd_theme-1.0.0-py2.py3-none-any.whl (2.8 MB)\n",
            "\u001b[K     |████████████████████████████████| 2.8 MB 8.6 MB/s \n",
            "\u001b[?25hCollecting jellyfish\n",
            "  Downloading jellyfish-0.8.8.tar.gz (134 kB)\n",
            "\u001b[K     |████████████████████████████████| 134 kB 66.6 MB/s \n",
            "\u001b[?25hRequirement already satisfied: scikit-learn in /usr/local/lib/python3.7/dist-packages (from geograpy3) (0.22.2.post1)\n",
            "Requirement already satisfied: numpy in /usr/local/lib/python3.7/dist-packages (from geograpy3) (1.19.5)\n",
            "Collecting pylodstorage\n",
            "  Downloading pylodstorage-0.0.72-py3-none-any.whl (40 kB)\n",
            "\u001b[K     |████████████████████████████████| 40 kB 5.2 MB/s \n",
            "\u001b[?25hRequirement already satisfied: nltk in /usr/local/lib/python3.7/dist-packages (from geograpy3) (3.2.5)\n",
            "Collecting newspaper3k\n",
            "  Downloading newspaper3k-0.2.8-py3-none-any.whl (211 kB)\n",
            "\u001b[K     |████████████████████████████████| 211 kB 67.2 MB/s \n",
            "\u001b[?25hCollecting feedfinder2>=0.0.4\n",
            "  Downloading feedfinder2-0.0.4.tar.gz (3.3 kB)\n",
            "Requirement already satisfied: beautifulsoup4>=4.4.1 in /usr/local/lib/python3.7/dist-packages (from newspaper3k->geograpy3) (4.6.3)\n",
            "Collecting cssselect>=0.9.2\n",
            "  Downloading cssselect-1.1.0-py2.py3-none-any.whl (16 kB)\n",
            "Requirement already satisfied: requests>=2.10.0 in /usr/local/lib/python3.7/dist-packages (from newspaper3k->geograpy3) (2.23.0)\n",
            "Requirement already satisfied: lxml>=3.6.0 in /usr/local/lib/python3.7/dist-packages (from newspaper3k->geograpy3) (4.2.6)\n",
            "Collecting tinysegmenter==0.3\n",
            "  Downloading tinysegmenter-0.3.tar.gz (16 kB)\n",
            "Collecting tldextract>=2.0.1\n",
            "  Downloading tldextract-3.1.2-py2.py3-none-any.whl (87 kB)\n",
            "\u001b[K     |████████████████████████████████| 87 kB 6.1 MB/s \n",
            "\u001b[?25hRequirement already satisfied: PyYAML>=3.11 in /usr/local/lib/python3.7/dist-packages (from newspaper3k->geograpy3) (3.13)\n",
            "Collecting jieba3k>=0.35.1\n",
            "  Downloading jieba3k-0.35.1.zip (7.4 MB)\n",
            "\u001b[K     |████████████████████████████████| 7.4 MB 16.6 MB/s \n",
            "\u001b[?25hCollecting feedparser>=5.2.1\n",
            "  Downloading feedparser-6.0.8-py3-none-any.whl (81 kB)\n",
            "\u001b[K     |████████████████████████████████| 81 kB 10.0 MB/s \n",
            "\u001b[?25hRequirement already satisfied: Pillow>=3.3.0 in /usr/local/lib/python3.7/dist-packages (from newspaper3k->geograpy3) (7.1.2)\n",
            "Requirement already satisfied: python-dateutil>=2.5.3 in /usr/local/lib/python3.7/dist-packages (from newspaper3k->geograpy3) (2.8.2)\n",
            "Requirement already satisfied: six in /usr/local/lib/python3.7/dist-packages (from feedfinder2>=0.0.4->newspaper3k->geograpy3) (1.15.0)\n",
            "Collecting sgmllib3k\n",
            "  Downloading sgmllib3k-1.0.0.tar.gz (5.8 kB)\n",
            "Requirement already satisfied: certifi>=2017.4.17 in /usr/local/lib/python3.7/dist-packages (from requests>=2.10.0->newspaper3k->geograpy3) (2021.5.30)\n",
            "Requirement already satisfied: chardet<4,>=3.0.2 in /usr/local/lib/python3.7/dist-packages (from requests>=2.10.0->newspaper3k->geograpy3) (3.0.4)\n",
            "Requirement already satisfied: urllib3!=1.25.0,!=1.25.1,<1.26,>=1.21.1 in /usr/local/lib/python3.7/dist-packages (from requests>=2.10.0->newspaper3k->geograpy3) (1.24.3)\n",
            "Requirement already satisfied: idna<3,>=2.5 in /usr/local/lib/python3.7/dist-packages (from requests>=2.10.0->newspaper3k->geograpy3) (2.10)\n",
            "Requirement already satisfied: filelock>=3.0.8 in /usr/local/lib/python3.7/dist-packages (from tldextract>=2.0.1->newspaper3k->geograpy3) (3.0.12)\n",
            "Collecting requests-file>=1.4\n",
            "  Downloading requests_file-1.5.1-py2.py3-none-any.whl (3.7 kB)\n",
            "Requirement already satisfied: pytz>=2017.2 in /usr/local/lib/python3.7/dist-packages (from pandas->geograpy3) (2018.9)\n",
            "Requirement already satisfied: tabulate in /usr/local/lib/python3.7/dist-packages (from pylodstorage->geograpy3) (0.8.9)\n",
            "Collecting SPARQLWrapper\n",
            "  Downloading SPARQLWrapper-1.8.5-py3-none-any.whl (26 kB)\n",
            "Collecting jsonpickle\n",
            "  Downloading jsonpickle-2.0.0-py2.py3-none-any.whl (37 kB)\n",
            "Requirement already satisfied: importlib-metadata in /usr/local/lib/python3.7/dist-packages (from jsonpickle->pylodstorage->geograpy3) (4.6.4)\n",
            "Requirement already satisfied: typing-extensions>=3.6.4 in /usr/local/lib/python3.7/dist-packages (from importlib-metadata->jsonpickle->pylodstorage->geograpy3) (3.7.4.3)\n",
            "Requirement already satisfied: zipp>=0.5 in /usr/local/lib/python3.7/dist-packages (from importlib-metadata->jsonpickle->pylodstorage->geograpy3) (3.5.0)\n",
            "Requirement already satisfied: scipy>=0.17.0 in /usr/local/lib/python3.7/dist-packages (from scikit-learn->geograpy3) (1.4.1)\n",
            "Requirement already satisfied: joblib>=0.11 in /usr/local/lib/python3.7/dist-packages (from scikit-learn->geograpy3) (1.0.1)\n",
            "Collecting rdflib>=4.0\n",
            "  Downloading rdflib-6.0.0-py3-none-any.whl (376 kB)\n",
            "\u001b[K     |████████████████████████████████| 376 kB 48.3 MB/s \n",
            "\u001b[?25hCollecting isodate\n",
            "  Downloading isodate-0.6.0-py2.py3-none-any.whl (45 kB)\n",
            "\u001b[K     |████████████████████████████████| 45 kB 3.4 MB/s \n",
            "\u001b[?25hRequirement already satisfied: setuptools in /usr/local/lib/python3.7/dist-packages (from rdflib>=4.0->SPARQLWrapper->pylodstorage->geograpy3) (57.4.0)\n",
            "Requirement already satisfied: pyparsing in /usr/local/lib/python3.7/dist-packages (from rdflib>=4.0->SPARQLWrapper->pylodstorage->geograpy3) (2.4.7)\n",
            "Requirement already satisfied: docutils<0.18 in /usr/local/lib/python3.7/dist-packages (from sphinx-rtd-theme->geograpy3) (0.17.1)\n",
            "Requirement already satisfied: sphinx>=1.6 in /usr/local/lib/python3.7/dist-packages (from sphinx-rtd-theme->geograpy3) (1.8.5)\n",
            "Requirement already satisfied: imagesize in /usr/local/lib/python3.7/dist-packages (from sphinx>=1.6->sphinx-rtd-theme->geograpy3) (1.2.0)\n",
            "Requirement already satisfied: snowballstemmer>=1.1 in /usr/local/lib/python3.7/dist-packages (from sphinx>=1.6->sphinx-rtd-theme->geograpy3) (2.1.0)\n",
            "Requirement already satisfied: sphinxcontrib-websupport in /usr/local/lib/python3.7/dist-packages (from sphinx>=1.6->sphinx-rtd-theme->geograpy3) (1.2.4)\n",
            "Requirement already satisfied: packaging in /usr/local/lib/python3.7/dist-packages (from sphinx>=1.6->sphinx-rtd-theme->geograpy3) (21.0)\n",
            "Requirement already satisfied: Pygments>=2.0 in /usr/local/lib/python3.7/dist-packages (from sphinx>=1.6->sphinx-rtd-theme->geograpy3) (2.6.1)\n",
            "Requirement already satisfied: Jinja2>=2.3 in /usr/local/lib/python3.7/dist-packages (from sphinx>=1.6->sphinx-rtd-theme->geograpy3) (2.11.3)\n",
            "Requirement already satisfied: alabaster<0.8,>=0.7 in /usr/local/lib/python3.7/dist-packages (from sphinx>=1.6->sphinx-rtd-theme->geograpy3) (0.7.12)\n",
            "Requirement already satisfied: babel!=2.0,>=1.3 in /usr/local/lib/python3.7/dist-packages (from sphinx>=1.6->sphinx-rtd-theme->geograpy3) (2.9.1)\n",
            "Requirement already satisfied: MarkupSafe>=0.23 in /usr/local/lib/python3.7/dist-packages (from Jinja2>=2.3->sphinx>=1.6->sphinx-rtd-theme->geograpy3) (2.0.1)\n",
            "Requirement already satisfied: sphinxcontrib-serializinghtml in /usr/local/lib/python3.7/dist-packages (from sphinxcontrib-websupport->sphinx>=1.6->sphinx-rtd-theme->geograpy3) (1.1.5)\n",
            "Building wheels for collected packages: jellyfish, tinysegmenter, feedfinder2, jieba3k, sgmllib3k\n",
            "  Building wheel for jellyfish (setup.py) ... \u001b[?25l\u001b[?25hdone\n",
            "  Created wheel for jellyfish: filename=jellyfish-0.8.8-cp37-cp37m-linux_x86_64.whl size=73210 sha256=6a3d4abe17d1c1a936e54ede5ae7711593cb6b2233e9db4b0b21395303318f2b\n",
            "  Stored in directory: /root/.cache/pip/wheels/82/aa/f4/716387e1f167cbbf911488aa056138152f4d8699c9c9b43ea8\n",
            "  Building wheel for tinysegmenter (setup.py) ... \u001b[?25l\u001b[?25hdone\n",
            "  Created wheel for tinysegmenter: filename=tinysegmenter-0.3-py3-none-any.whl size=13552 sha256=607ad1117d28ce86083eaadc6f39c809983fc5e88065562fd429a56f077ddc2d\n",
            "  Stored in directory: /root/.cache/pip/wheels/df/67/41/faca10fa501ca010be41b49d40360c2959e1c4f09bcbfa37fa\n",
            "  Building wheel for feedfinder2 (setup.py) ... \u001b[?25l\u001b[?25hdone\n",
            "  Created wheel for feedfinder2: filename=feedfinder2-0.0.4-py3-none-any.whl size=3356 sha256=dbc38a4c1ee8c65f9637dc8d3210ab1a7c8498c0cd7dbe1abfe45fddae812659\n",
            "  Stored in directory: /root/.cache/pip/wheels/7f/d4/8f/6e2ca54744c9d7292d88ddb8d42876bcdab5e6d84a21c10346\n",
            "  Building wheel for jieba3k (setup.py) ... \u001b[?25l\u001b[?25hdone\n",
            "  Created wheel for jieba3k: filename=jieba3k-0.35.1-py3-none-any.whl size=7398405 sha256=0bff1d419fb8517b2c3c4639fd0f558f08b5e260ded4926f3c19f6608c1ba163\n",
            "  Stored in directory: /root/.cache/pip/wheels/4c/91/46/3c208287b726df325a5979574324878b679116e4baae1af3c3\n",
            "  Building wheel for sgmllib3k (setup.py) ... \u001b[?25l\u001b[?25hdone\n",
            "  Created wheel for sgmllib3k: filename=sgmllib3k-1.0.0-py3-none-any.whl size=6065 sha256=f31ea6292b1cee8575d10c133a40945d166eeb1b45397cfa7c3c284d96a7df4c\n",
            "  Stored in directory: /root/.cache/pip/wheels/73/ad/a4/0dff4a6ef231fc0dfa12ffbac2a36cebfdddfe059f50e019aa\n",
            "Successfully built jellyfish tinysegmenter feedfinder2 jieba3k sgmllib3k\n",
            "Installing collected packages: isodate, sgmllib3k, requests-file, rdflib, tldextract, tinysegmenter, SPARQLWrapper, jsonpickle, jieba3k, feedparser, feedfinder2, cssselect, sphinx-rtd-theme, pylodstorage, newspaper3k, jellyfish, geograpy3\n",
            "Successfully installed SPARQLWrapper-1.8.5 cssselect-1.1.0 feedfinder2-0.0.4 feedparser-6.0.8 geograpy3-0.2.1 isodate-0.6.0 jellyfish-0.8.8 jieba3k-0.35.1 jsonpickle-2.0.0 newspaper3k-0.2.8 pylodstorage-0.0.72 rdflib-6.0.0 requests-file-1.5.1 sgmllib3k-1.0.0 sphinx-rtd-theme-1.0.0 tinysegmenter-0.3 tldextract-3.1.2\n",
            "Collecting mip\n",
            "  Downloading mip-1.13.0-py3-none-any.whl (48.0 MB)\n",
            "\u001b[K     |████████████████████████████████| 48.0 MB 51 kB/s \n",
            "\u001b[?25hRequirement already satisfied: cffi in /usr/local/lib/python3.7/dist-packages (from mip) (1.14.6)\n",
            "Requirement already satisfied: pycparser in /usr/local/lib/python3.7/dist-packages (from cffi->mip) (2.20)\n",
            "Installing collected packages: mip\n",
            "Successfully installed mip-1.13.0\n"
          ]
        }
      ]
    },
    {
      "cell_type": "code",
      "metadata": {
        "id": "MKBHXSuiFmta",
        "colab": {
          "base_uri": "https://localhost:8080/"
        },
        "outputId": "57b0f44e-bfb9-4b73-c7be-a2f37d71ab65"
      },
      "source": [
        "import pycountry\n",
        "text = \"United States (Key West), United States (Oak Park), France (Paris), Spain (Pamplona), Cuba (Havana)\".lower()\n",
        "for country in pycountry.countries:\n",
        "    if country.name.lower() in text:\n",
        "        print(country.name)\n"
      ],
      "execution_count": null,
      "outputs": [
        {
          "output_type": "stream",
          "name": "stdout",
          "text": [
            "Cuba\n",
            "Spain\n",
            "France\n",
            "United States\n"
          ]
        }
      ]
    },
    {
      "cell_type": "code",
      "metadata": {
        "id": "qzxrP9ysQ1sH",
        "colab": {
          "base_uri": "https://localhost:8080/",
          "height": 282
        },
        "outputId": "69fd5f57-0f49-439f-b550-43a8da73bd06"
      },
      "source": [
        "places = np.array([(0,0),(200,0),(0,200), (-200,-200), (-100, -100)])\n",
        "import matplotlib.pyplot as plt\n",
        "plt.scatter(x = [p[0] for p in places], y = [p[1] for p in places])"
      ],
      "execution_count": null,
      "outputs": [
        {
          "output_type": "execute_result",
          "data": {
            "text/plain": [
              "<matplotlib.collections.PathCollection at 0x7fc2e708e390>"
            ]
          },
          "metadata": {},
          "execution_count": 50
        },
        {
          "output_type": "display_data",
          "data": {
            "image/png": "[encoded data removed]",
            "text/plain": [
              "<Figure size 432x288 with 1 Axes>"
            ]
          },
          "metadata": {
            "needs_background": "light"
          }
        }
      ]
    },
    {
      "cell_type": "code",
      "metadata": {
        "id": "dbPMOV3ifyQ-",
        "colab": {
          "base_uri": "https://localhost:8080/"
        },
        "outputId": "137f7529-ae56-4a89-973c-df1c9432035a"
      },
      "source": [
        "import numpy as np\n",
        "\n",
        "def travelling_salesman_greedy_algorithm(places):\n",
        "\tbest_order = []\n",
        "\tbest_length = float('inf')\n",
        "\n",
        "\tfor i_start, start in enumerate(places):\n",
        "\t\torder = [i_start]\n",
        "\t\tlength = 0\n",
        "\t\ti_next, next, dist =   get_closest(start, places, order)\n",
        "\t\tlength += dist\n",
        "\t\torder.append(i_next)\n",
        "\n",
        "\t\twhile len(order) < places.shape[0]:\n",
        "\t\t\ti_next, next, dist = get_closest(next, places, order)\n",
        "\t\t\tlength += dist\n",
        "\t\t\torder.append(i_next)\n",
        "\n",
        "\n",
        "\t\tif length < best_length:\n",
        "\t\t\tbest_length = length\n",
        "\t\t\tbest_order = order\n",
        "\t\t\t\n",
        "\treturn best_order, best_length\n",
        "\n",
        "def get_closest(place, places, visited):\n",
        "\tbest_distance = float('inf')\n",
        "\n",
        "\tfor i, c in enumerate(places):\n",
        "\n",
        "\t\tif i not in visited:\n",
        "\t\t\tdistance = dist_squared(place, c)\n",
        "\n",
        "\t\t\tif distance < best_distance:\n",
        "\t\t\t\tclosest_place = p\n",
        "\t\t\t\ti_closest_place = i\n",
        "\t\t\t\tbest_distance = distance\n",
        "\n",
        "\treturn i_closest_place, closest_place, best_distance\n",
        "\n",
        "\n",
        "def dist_squared(p1, p2):\n",
        "\tt1 = p2[0] - p1[0]\n",
        "\tt2 = p2[1] - p1[1]\n",
        "\n",
        "\treturn t1**2 + t2**2\n",
        "\n",
        "travelling_salesman_greedy_algorithm(places)"
      ],
      "execution_count": null,
      "outputs": [
        {
          "output_type": "execute_result",
          "data": {
            "text/plain": [
              "([3, 4, 0, 2, 1], 91607)"
            ]
          },
          "metadata": {},
          "execution_count": 56
        }
      ]
    },
    {
      "cell_type": "markdown",
      "metadata": {
        "id": "vVVt5y37qP7y"
      },
      "source": [
        "####List of the places Hemingway has travelled or lived"
      ]
    },
    {
      "cell_type": "code",
      "metadata": {
        "id": "Ey2cfZd-y84k"
      },
      "source": [
        "choice_list=[\"United States (Key West)\", \"United States (Oak Park)\", \"France (Paris)\", \"Spain (Pamplona)\", \"Cuba (Havana)\"]"
      ],
      "execution_count": null,
      "outputs": []
    },
    {
      "cell_type": "code",
      "metadata": {
        "id": "QnK4HVuvzDUP"
      },
      "source": [
        "from random import choices"
      ],
      "execution_count": null,
      "outputs": []
    },
    {
      "cell_type": "code",
      "metadata": {
        "colab": {
          "base_uri": "https://localhost:8080/"
        },
        "id": "QD654S0OzKSy",
        "outputId": "362fd2e7-5920-4403-8664-e2f511179156"
      },
      "source": [
        "choices(choice_list)"
      ],
      "execution_count": null,
      "outputs": [
        {
          "output_type": "execute_result",
          "data": {
            "text/plain": [
              "['Cuba (Havana)']"
            ]
          },
          "metadata": {},
          "execution_count": 3
        }
      ]
    },
    {
      "cell_type": "code",
      "metadata": {
        "colab": {
          "base_uri": "https://localhost:8080/"
        },
        "id": "U5892DbjzR4j",
        "outputId": "3c6d48a3-c0ae-470c-a8e1-954734cd3f4b"
      },
      "source": [
        "for _ in range(10):\n",
        "    print(choices(choice_list))"
      ],
      "execution_count": null,
      "outputs": [
        {
          "output_type": "stream",
          "name": "stdout",
          "text": [
            "['Spain (Pamplona)']\n",
            "['France (Paris)']\n",
            "['Spain (Pamplona)']\n",
            "['United States (Key West)']\n",
            "['United States (Key West)']\n",
            "['France (Paris)']\n",
            "['France (Paris)']\n",
            "['France (Paris)']\n",
            "['Spain (Pamplona)']\n",
            "['Spain (Pamplona)']\n"
          ]
        }
      ]
    },
    {
      "cell_type": "code",
      "metadata": {
        "id": "hDHFSpC-z_vI"
      },
      "source": [
        "def yield_place(): \n",
        "\n",
        "    from random import choices\n",
        "    place=[\"United States (Key West)\", \"United States (Oak Park)\", \"France (Paris)\", \"Spain (Pamplona)\", \"Cuba (Havana)\"]\n",
        "    while True:\n",
        "      yield choices(place)\n"
      ],
      "execution_count": null,
      "outputs": []
    },
    {
      "cell_type": "code",
      "metadata": {
        "colab": {
          "base_uri": "https://localhost:8080/"
        },
        "id": "jRzMX2J30hXO",
        "outputId": "31379f07-5053-4a2b-97b4-e1ddbf320271"
      },
      "source": [
        "places=yield_place()\n",
        "\n",
        "for _ in range(6):\n",
        "    print(next(places))"
      ],
      "execution_count": null,
      "outputs": [
        {
          "output_type": "stream",
          "name": "stdout",
          "text": [
            "['Spain (Pamplona)']\n",
            "['United States (Key West)']\n",
            "['United States (Oak Park)']\n",
            "['United States (Oak Park)']\n",
            "['France (Paris)']\n",
            "['United States (Key West)']\n"
          ]
        }
      ]
    },
    {
      "cell_type": "code",
      "metadata": {
        "id": "xuaacxQa1kyR"
      },
      "source": [
        "def random_place(number=5):\n",
        "    places=yield_place()\n",
        "\n",
        "    for _ in range(number):\n",
        "        print(next(places))"
      ],
      "execution_count": null,
      "outputs": []
    },
    {
      "cell_type": "code",
      "metadata": {
        "colab": {
          "base_uri": "https://localhost:8080/"
        },
        "id": "lXEYB_cB1p8U",
        "outputId": "e3ab9c34-0ed3-4b73-b02d-850d358b99e9"
      },
      "source": [
        "random_place(3)"
      ],
      "execution_count": null,
      "outputs": [
        {
          "output_type": "stream",
          "name": "stdout",
          "text": [
            "['United States (Oak Park)']\n",
            "['Spain (Pamplona)']\n",
            "['United States (Key West)']\n"
          ]
        }
      ]
    },
    {
      "cell_type": "code",
      "metadata": {
        "colab": {
          "base_uri": "https://localhost:8080/"
        },
        "id": "cFCJRQKb1tVO",
        "outputId": "a24d1590-3e3a-450f-a605-0a4a231ffcef"
      },
      "source": [
        "random_place(6)"
      ],
      "execution_count": null,
      "outputs": [
        {
          "output_type": "stream",
          "name": "stdout",
          "text": [
            "['United States (Key West)']\n",
            "['United States (Oak Park)']\n",
            "['Cuba (Havana)']\n",
            "['Cuba (Havana)']\n",
            "['France (Paris)']\n",
            "['Spain (Pamplona)']\n"
          ]
        }
      ]
    },
    {
      "cell_type": "code",
      "metadata": {
        "colab": {
          "base_uri": "https://localhost:8080/"
        },
        "id": "GN9UDRxh2Ip7",
        "outputId": "b29991d6-9936-4cde-c08f-6f7b67b3e06b"
      },
      "source": [
        "from random import choices\n",
        "place=[\"United States (Key West)\", \"United States (Oak Park)\", \"France (Paris)\", \"Spain (Pamplona)\", \"Cuba (Havana)\"]\n",
        "for _ in range(5):\n",
        "  print(choices(place, k=2))\n"
      ],
      "execution_count": null,
      "outputs": [
        {
          "output_type": "stream",
          "name": "stdout",
          "text": [
            "['Spain (Pamplona)', 'France (Paris)']\n",
            "['Cuba (Havana)', 'Spain (Pamplona)']\n",
            "['Spain (Pamplona)', 'Spain (Pamplona)']\n",
            "['Spain (Pamplona)', 'Spain (Pamplona)']\n",
            "['United States (Key West)', 'United States (Oak Park)']\n"
          ]
        }
      ]
    }
  ]
}